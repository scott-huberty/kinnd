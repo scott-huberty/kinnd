{
 "cells": [
  {
   "cell_type": "code",
   "execution_count": null,
   "metadata": {},
   "outputs": [],
   "source": [
    "from pathlib import Path\n",
    "\n",
    "import matplotlib.pyplot as plt\n",
    "import pandas as pd\n",
    "\n",
    "import seaborn as sns\n",
    "\n",
    "import xarray as xr\n",
    "\n",
    "import kinnd\n",
    "\n",
    "sns.set_style(\"darkgrid\")"
   ]
  },
  {
   "cell_type": "code",
   "execution_count": null,
   "metadata": {},
   "outputs": [],
   "source": []
  },
  {
   "cell_type": "code",
   "execution_count": null,
   "metadata": {},
   "outputs": [],
   "source": [
    "listen_fpath = kinnd.paths.get_listen_path()\n",
    "ds = xr.open_zarr(str( listen_fpath / \"data\" / \"derivatives\" / \"xarray\" / \"phonemes_proc-MneBidsPipeline_evoked.zarr\"))\n",
    "ds"
   ]
  },
  {
   "cell_type": "code",
   "execution_count": null,
   "metadata": {},
   "outputs": [],
   "source": [
    "dat = ds.sel(channel=[\"Cz\", \"E7\", \"E106\"], condition=\"tone/deviant\").mean([\"channel\", \"time\"]).values()\n",
    "\n",
    "plt.scatter(x=dat, y=list(ds.var()))"
   ]
  },
  {
   "cell_type": "code",
   "execution_count": null,
   "metadata": {},
   "outputs": [],
   "source": [
    "from scipy.stats import zscore\n",
    "\n",
    "df_outlier = ds.sel(channel=[\"Cz\", \"E7\", \"E106\"], condition=\"tone/deviant\").mean([\"channel\", \"time\"]).to_pandas()\n",
    "zscores = df_outlier.to_frame().rename(columns={0: \"z\"}).apply(zscore)\n",
    "zscores.loc[zscores[\"z\"] > 3]"
   ]
  },
  {
   "cell_type": "code",
   "execution_count": null,
   "metadata": {},
   "outputs": [],
   "source": [
    "df = ds.sel(channel=[\"Cz\", \"E7\", \"E106\"]).mean(\"channel\").to_dataframe()\n",
    "\n",
    "df = df.reset_index().melt(\n",
    "    id_vars=[\"condition\", \"time\"],\n",
    "    var_name=\"subject\",\n",
    "    value_vars=[col for col in df.columns if col.startswith(\"sub\")],\n",
    "    value_name=\"voltage\",\n",
    ")\n",
    "\n",
    "# drop outliers that were defined in cell above\n",
    "idx_to_drop = df.loc[df[\"subject\"] == \"sub-2041\"].index\n",
    "df = df.drop(idx_to_drop)\n",
    "\n",
    "# Merged Group demographic info\n",
    "group_fpath = listen_fpath / \"data\" / \"listen_demographics.csv\"\n",
    "group_df = pd.read_csv(group_fpath)\n",
    "df = df.merge(group_df, on=\"subject\")\n",
    "df"
   ]
  },
  {
   "cell_type": "code",
   "execution_count": null,
   "metadata": {},
   "outputs": [],
   "source": [
    "width = 7 # inches\n",
    "height = 5 # inches\n",
    "\n",
    "fig, ax = plt.subplots(figsize=(width, height), nrows=3, ncols=2, constrained_layout=True)\n",
    "\n",
    "g = sns.FacetGrid(data=df, col=\"Group\", col_wrap=2)\n",
    "g.map_dataframe(sns.lineplot, x=\"time\", y=\"voltage\", hue=\"condition\")\n",
    "\n",
    "g.add_legend()"
   ]
  },
  {
   "cell_type": "code",
   "execution_count": null,
   "metadata": {},
   "outputs": [],
   "source": [
    "g.savefig(\"./phonemes_evoked.png\", dpi=300)"
   ]
  },
  {
   "cell_type": "code",
   "execution_count": null,
   "metadata": {},
   "outputs": [],
   "source": [
    "sns.lineplot(data=df, x=\"time\", y=\"voltage\", hue=\"condition\")"
   ]
  }
 ],
 "metadata": {
  "kernelspec": {
   "display_name": "kinnd",
   "language": "python",
   "name": "python3"
  },
  "language_info": {
   "codemirror_mode": {
    "name": "ipython",
    "version": 3
   },
   "file_extension": ".py",
   "mimetype": "text/x-python",
   "name": "python",
   "nbconvert_exporter": "python",
   "pygments_lexer": "ipython3",
   "version": "3.10.15"
  }
 },
 "nbformat": 4,
 "nbformat_minor": 2
}
